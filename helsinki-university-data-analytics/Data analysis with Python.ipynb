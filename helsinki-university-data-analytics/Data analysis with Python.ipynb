{
 "cells":[
  {
   "cell_type":"markdown",
   "source":[
    "# Data analysis with Python\n",
    "This is a notebook for the University of Helsinki course \"Data analysis with Python\". The course is available as a MOOC here: https:\/\/csmastersuh.github.io\/data_analysis_with_python_summer_2021\/basics.html\n",
    "\n",
    "## Exercise 1\n",
    "In the first exercise, you were expected to print hello world. The actual course expects you to use Test My Code platform and clunky opensource environments. I opted for using the nifty cloud-based Datalore instead."
   ],
   "attachments":{
    
   },
   "metadata":{
    "datalore":{
     "node_id":"GuAR4gRRQ5ydiDv0RwSeXi",
     "type":"MD",
     "hide_input_from_viewers":false,
     "hide_output_from_viewers":false
    }
   }
  },
  {
   "cell_type":"code",
   "source":[
    "print(\"Hello, World!\")"
   ],
   "execution_count":null,
   "outputs":[
    {
     "name":"stdout",
     "text":[
      "Hello, World!\n"
     ],
     "output_type":"stream"
    }
   ],
   "metadata":{
    "datalore":{
     "node_id":"RwAKpIlBQCY1hnkDYobp9z",
     "type":"CODE",
     "hide_input_from_viewers":false,
     "hide_output_from_viewers":false
    }
   }
  },
  {
   "cell_type":"markdown",
   "source":[
    "## Exercise 2\n",
    "\n",
    "In exercise 2 the goal was to read an input and the input to a text string."
   ],
   "attachments":{
    
   },
   "metadata":{
    "datalore":{
     "node_id":"grlKeoqkOjudVCNhsGWatM",
     "type":"MD",
     "hide_input_from_viewers":false,
     "hide_output_from_viewers":false
    }
   }
  },
  {
   "cell_type":"code",
   "source":[
    "print(\"What country are you from?\")\n",
    "country = input()\n",
    "print(\"I have heard that \" + country + \" is a beautiful country.\")"
   ],
   "execution_count":null,
   "outputs":[
    {
     "name":"stdout",
     "text":[
      "What country are you from?\n",
      " Sweden\n",
      "I have heard that Sweden is a beautiful country.\n"
     ],
     "output_type":"stream"
    }
   ],
   "metadata":{
    "datalore":{
     "node_id":"iBgWzFxub5orbLrqAjm6WC",
     "type":"CODE",
     "hide_input_from_viewers":false,
     "hide_output_from_viewers":false
    }
   }
  },
  {
   "cell_type":"markdown",
   "source":[
    "## Exercise 3\n",
    "The third exercise was about doing multiplication in a for loop"
   ],
   "attachments":{
    
   },
   "metadata":{
    "datalore":{
     "node_id":"GyyeZQKsCNNgaCGYpRhCn9",
     "type":"MD",
     "hide_input_from_viewers":false,
     "hide_output_from_viewers":false
    }
   }
  },
  {
   "cell_type":"code",
   "source":[
    "base = 4\n",
    "for iteration in range(0,11):\n",
    "    result = base * iteration\n",
    "    print(base, \"multiplied by\", iteration, \"is\", result)"
   ],
   "execution_count":null,
   "outputs":[
    {
     "name":"stdout",
     "text":[
      "4 multiplied by 0 is 0\n",
      "4 multiplied by 1 is 4\n",
      "4 multiplied by 2 is 8\n",
      "4 multiplied by 3 is 12\n",
      "4 multiplied by 4 is 16\n",
      "4 multiplied by 5 is 20\n",
      "4 multiplied by 6 is 24\n",
      "4 multiplied by 7 is 28\n",
      "4 multiplied by 8 is 32\n",
      "4 multiplied by 9 is 36\n",
      "4 multiplied by 10 is 40\n"
     ],
     "output_type":"stream"
    }
   ],
   "metadata":{
    "datalore":{
     "node_id":"5V19j3T5IqkqLeulwmosJx",
     "type":"CODE",
     "hide_input_from_viewers":false,
     "hide_output_from_viewers":false
    }
   }
  },
  {
   "cell_type":"markdown",
   "source":[
    
   ],
   "attachments":{
    
   },
   "metadata":{
    "datalore":{
     "node_id":"xOtD0ss2uPNeUtBk3gn2G6",
     "type":"MD",
     "hide_input_from_viewers":false,
     "hide_output_from_viewers":false
    }
   }
  }
 ],
 "metadata":{
  "kernelspec":{
   "display_name":"Python",
   "language":"python",
   "name":"python"
  },
  "datalore":{
   "version":1,
   "computation_mode":"JUPYTER",
   "package_manager":"pip",
   "base_environment":"default",
   "packages":[
    
   ]
  }
 },
 "nbformat":4,
 "nbformat_minor":4
}